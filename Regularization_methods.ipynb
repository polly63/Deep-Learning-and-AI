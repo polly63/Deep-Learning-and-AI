{
 "cells": [
  {
   "cell_type": "code",
   "execution_count": 0,
   "metadata": {
    "ExecuteTime": {
     "end_time": "2018-12-26T19:58:03.252675Z",
     "start_time": "2018-12-26T19:58:00.632733Z"
    },
    "colab": {},
    "colab_type": "code",
    "id": "97YADQAzXsh4"
   },
   "outputs": [],
   "source": [
    "%tensorflow_version 1.x\n",
    "import numpy as np\n",
    "import matplotlib.pyplot as plt\n",
    "import seaborn as sns\n",
    "\n",
    "from keras.models import Sequential\n",
    "from keras.layers import Dense, Activation, Dropout\n",
    "from keras.datasets import mnist\n",
    "from keras.optimizers import Adam\n",
    "from keras.regularizers import l1, l2\n",
    "from keras.utils import to_categorical\n",
    "from keras.callbacks import TensorBoard\n",
    "from keras.datasets import boston_housing\n",
    "from sklearn.preprocessing import StandardScaler"
   ]
  },
  {
   "cell_type": "code",
   "execution_count": 0,
   "metadata": {
    "ExecuteTime": {
     "end_time": "2018-12-26T20:13:37.811236Z",
     "start_time": "2018-12-26T20:13:37.799561Z"
    },
    "colab": {
     "base_uri": "https://localhost:8080/",
     "height": 121
    },
    "colab_type": "code",
    "id": "Ern3h0VKXsiG",
    "outputId": "8a8cd6e3-fa1a-4cc0-bb42-40ba67148a24"
   },
   "outputs": [
    {
     "name": "stdout",
     "output_type": "stream",
     "text": [
      "Downloading data from https://s3.amazonaws.com/keras-datasets/boston_housing.npz\n",
      "57344/57026 [==============================] - 0s 6us/step\n",
      "Training Dataset Size:  (50, 13)\n",
      "Training Labels Size:  (50,)\n",
      "Testing Dataset Size:  (102, 13)\n",
      "Testing Labels Size:  (102,)\n"
     ]
    }
   ],
   "source": [
    "(x_train, y_train), (x_test, y_test) = boston_housing.load_data()\n",
    "\n",
    "np.random.seed(0)\n",
    "index = np.arange(len(x_train))\n",
    "\n",
    "# Take a biased training set - top 50 house prices\n",
    "index = sorted(index, key=lambda x: -y_train[x])\n",
    "x_train = x_train[index]\n",
    "y_train = y_train[index]\n",
    "\n",
    "sample = 50\n",
    "x_train, y_train = x_train[:sample], y_train[:sample]\n",
    "x_test, y_test = x_test, y_test\n",
    "\n",
    "scalar = StandardScaler()\n",
    "x_train2 = scalar.fit_transform(x_train)\n",
    "x_test2 = scalar.transform(x_test)\n",
    "\n",
    "print(\"Training Dataset Size: \", x_train2.shape)\n",
    "print(\"Training Labels Size: \", y_train.shape)\n",
    "print(\"Testing Dataset Size: \", x_test2.shape)\n",
    "print(\"Testing Labels Size: \", y_test.shape)"
   ]
  },
  {
   "cell_type": "code",
   "execution_count": 0,
   "metadata": {
    "ExecuteTime": {
     "end_time": "2018-12-26T20:17:06.018273Z",
     "start_time": "2018-12-26T20:17:05.910265Z"
    },
    "colab": {
     "base_uri": "https://localhost:8080/",
     "height": 419
    },
    "colab_type": "code",
    "id": "eYmvI1UwXsiU",
    "outputId": "3ad45085-c98d-4f0b-9745-00f86892a077"
   },
   "outputs": [
    {
     "name": "stdout",
     "output_type": "stream",
     "text": [
      "WARNING:tensorflow:From /usr/local/lib/python3.6/dist-packages/keras/backend/tensorflow_backend.py:66: The name tf.get_default_graph is deprecated. Please use tf.compat.v1.get_default_graph instead.\n",
      "\n",
      "WARNING:tensorflow:From /usr/local/lib/python3.6/dist-packages/keras/backend/tensorflow_backend.py:541: The name tf.placeholder is deprecated. Please use tf.compat.v1.placeholder instead.\n",
      "\n",
      "WARNING:tensorflow:From /usr/local/lib/python3.6/dist-packages/keras/backend/tensorflow_backend.py:4432: The name tf.random_uniform is deprecated. Please use tf.random.uniform instead.\n",
      "\n",
      "Model: \"sequential_1\"\n",
      "_________________________________________________________________\n",
      "Layer (type)                 Output Shape              Param #   \n",
      "=================================================================\n",
      "dense_1 (Dense)              (None, 100)               1400      \n",
      "_________________________________________________________________\n",
      "dense_2 (Dense)              (None, 100)               10100     \n",
      "_________________________________________________________________\n",
      "dense_3 (Dense)              (None, 100)               10100     \n",
      "_________________________________________________________________\n",
      "dense_4 (Dense)              (None, 1)                 101       \n",
      "=================================================================\n",
      "Total params: 21,701\n",
      "Trainable params: 21,701\n",
      "Non-trainable params: 0\n",
      "_________________________________________________________________\n"
     ]
    }
   ],
   "source": [
    "model1 = Sequential()\n",
    "model1.add(Dense(100, activation='relu', input_shape=(13,)))\n",
    "model1.add(Dense(100, activation='relu'))\n",
    "model1.add(Dense(100, activation='relu'))\n",
    "model1.add(Dense(1,))\n",
    "\n",
    "model1.summary()"
   ]
  },
  {
   "cell_type": "code",
   "execution_count": 0,
   "metadata": {
    "ExecuteTime": {
     "end_time": "2018-12-26T20:17:15.317837Z",
     "start_time": "2018-12-26T20:17:06.136739Z"
    },
    "colab": {
     "base_uri": "https://localhost:8080/",
     "height": 1000
    },
    "colab_type": "code",
    "id": "xH5H3DDlXsia",
    "outputId": "e7057978-397b-4572-c812-a835cffebed9",
    "scrolled": true
   },
   "outputs": [
    {
     "name": "stdout",
     "output_type": "stream",
     "text": [
      "WARNING:tensorflow:From /usr/local/lib/python3.6/dist-packages/keras/optimizers.py:793: The name tf.train.Optimizer is deprecated. Please use tf.compat.v1.train.Optimizer instead.\n",
      "\n",
      "WARNING:tensorflow:From /usr/local/lib/python3.6/dist-packages/keras/backend/tensorflow_backend.py:1033: The name tf.assign_add is deprecated. Please use tf.compat.v1.assign_add instead.\n",
      "\n",
      "WARNING:tensorflow:From /usr/local/lib/python3.6/dist-packages/keras/backend/tensorflow_backend.py:1020: The name tf.assign is deprecated. Please use tf.compat.v1.assign instead.\n",
      "\n",
      "WARNING:tensorflow:From /usr/local/lib/python3.6/dist-packages/keras/backend/tensorflow_backend.py:3005: The name tf.Session is deprecated. Please use tf.compat.v1.Session instead.\n",
      "\n",
      "Epoch 1/100\n",
      "WARNING:tensorflow:From /usr/local/lib/python3.6/dist-packages/keras/backend/tensorflow_backend.py:190: The name tf.get_default_session is deprecated. Please use tf.compat.v1.get_default_session instead.\n",
      "\n",
      "WARNING:tensorflow:From /usr/local/lib/python3.6/dist-packages/keras/backend/tensorflow_backend.py:197: The name tf.ConfigProto is deprecated. Please use tf.compat.v1.ConfigProto instead.\n",
      "\n",
      "WARNING:tensorflow:From /usr/local/lib/python3.6/dist-packages/keras/backend/tensorflow_backend.py:207: The name tf.global_variables is deprecated. Please use tf.compat.v1.global_variables instead.\n",
      "\n",
      "WARNING:tensorflow:From /usr/local/lib/python3.6/dist-packages/keras/backend/tensorflow_backend.py:216: The name tf.is_variable_initialized is deprecated. Please use tf.compat.v1.is_variable_initialized instead.\n",
      "\n",
      "WARNING:tensorflow:From /usr/local/lib/python3.6/dist-packages/keras/backend/tensorflow_backend.py:223: The name tf.variables_initializer is deprecated. Please use tf.compat.v1.variables_initializer instead.\n",
      "\n",
      "50/50 [==============================] - 1s 16ms/step - loss: 41.3913\n",
      "Epoch 2/100\n",
      "50/50 [==============================] - 0s 181us/step - loss: 39.8765\n",
      "Epoch 3/100\n",
      "50/50 [==============================] - 0s 168us/step - loss: 37.0206\n",
      "Epoch 4/100\n",
      "50/50 [==============================] - 0s 176us/step - loss: 31.8911\n",
      "Epoch 5/100\n",
      "50/50 [==============================] - 0s 39us/step - loss: 23.3899\n",
      "Epoch 6/100\n",
      "50/50 [==============================] - 0s 46us/step - loss: 15.6603\n",
      "Epoch 7/100\n",
      "50/50 [==============================] - 0s 56us/step - loss: 13.8986\n",
      "Epoch 8/100\n",
      "50/50 [==============================] - 0s 47us/step - loss: 18.7337\n",
      "Epoch 9/100\n",
      "50/50 [==============================] - 0s 56us/step - loss: 14.3514\n",
      "Epoch 10/100\n",
      "50/50 [==============================] - 0s 68us/step - loss: 6.7701\n",
      "Epoch 11/100\n",
      "50/50 [==============================] - 0s 55us/step - loss: 6.5069\n",
      "Epoch 12/100\n",
      "50/50 [==============================] - 0s 79us/step - loss: 9.7077\n",
      "Epoch 13/100\n",
      "50/50 [==============================] - 0s 58us/step - loss: 10.0213\n",
      "Epoch 14/100\n",
      "50/50 [==============================] - 0s 57us/step - loss: 7.7649\n",
      "Epoch 15/100\n",
      "50/50 [==============================] - 0s 61us/step - loss: 5.9606\n",
      "Epoch 16/100\n",
      "50/50 [==============================] - 0s 64us/step - loss: 7.1372\n",
      "Epoch 17/100\n",
      "50/50 [==============================] - 0s 53us/step - loss: 8.1857\n",
      "Epoch 18/100\n",
      "50/50 [==============================] - 0s 54us/step - loss: 7.1574\n",
      "Epoch 19/100\n",
      "50/50 [==============================] - 0s 58us/step - loss: 4.5923\n",
      "Epoch 20/100\n",
      "50/50 [==============================] - 0s 57us/step - loss: 4.1820\n",
      "Epoch 21/100\n",
      "50/50 [==============================] - 0s 55us/step - loss: 5.4158\n",
      "Epoch 22/100\n",
      "50/50 [==============================] - 0s 57us/step - loss: 5.9644\n",
      "Epoch 23/100\n",
      "50/50 [==============================] - 0s 134us/step - loss: 5.3536\n",
      "Epoch 24/100\n",
      "50/50 [==============================] - 0s 58us/step - loss: 4.3659\n",
      "Epoch 25/100\n",
      "50/50 [==============================] - 0s 58us/step - loss: 4.1576\n",
      "Epoch 26/100\n",
      "50/50 [==============================] - 0s 56us/step - loss: 4.5592\n",
      "Epoch 27/100\n",
      "50/50 [==============================] - 0s 57us/step - loss: 3.5730\n",
      "Epoch 28/100\n",
      "50/50 [==============================] - 0s 58us/step - loss: 2.9981\n",
      "Epoch 29/100\n",
      "50/50 [==============================] - 0s 55us/step - loss: 3.5028\n",
      "Epoch 30/100\n",
      "50/50 [==============================] - 0s 55us/step - loss: 3.6672\n",
      "Epoch 31/100\n",
      "50/50 [==============================] - 0s 55us/step - loss: 3.3633\n",
      "Epoch 32/100\n",
      "50/50 [==============================] - 0s 51us/step - loss: 3.1790\n",
      "Epoch 33/100\n",
      "50/50 [==============================] - 0s 50us/step - loss: 2.9725\n",
      "Epoch 34/100\n",
      "50/50 [==============================] - 0s 50us/step - loss: 2.4637\n",
      "Epoch 35/100\n",
      "50/50 [==============================] - 0s 62us/step - loss: 1.9893\n",
      "Epoch 36/100\n",
      "50/50 [==============================] - 0s 53us/step - loss: 2.3563\n",
      "Epoch 37/100\n",
      "50/50 [==============================] - 0s 52us/step - loss: 2.5299\n",
      "Epoch 38/100\n",
      "50/50 [==============================] - 0s 53us/step - loss: 2.3970\n",
      "Epoch 39/100\n",
      "50/50 [==============================] - 0s 56us/step - loss: 2.0227\n",
      "Epoch 40/100\n",
      "50/50 [==============================] - 0s 52us/step - loss: 1.8818\n",
      "Epoch 41/100\n",
      "50/50 [==============================] - 0s 53us/step - loss: 1.8604\n",
      "Epoch 42/100\n",
      "50/50 [==============================] - 0s 62us/step - loss: 2.0773\n",
      "Epoch 43/100\n",
      "50/50 [==============================] - 0s 48us/step - loss: 2.0553\n",
      "Epoch 44/100\n",
      "50/50 [==============================] - 0s 53us/step - loss: 1.8820\n",
      "Epoch 45/100\n",
      "50/50 [==============================] - 0s 53us/step - loss: 1.6040\n",
      "Epoch 46/100\n",
      "50/50 [==============================] - 0s 100us/step - loss: 1.7645\n",
      "Epoch 47/100\n",
      "50/50 [==============================] - 0s 54us/step - loss: 1.6644\n",
      "Epoch 48/100\n",
      "50/50 [==============================] - 0s 48us/step - loss: 1.9263\n",
      "Epoch 49/100\n",
      "50/50 [==============================] - 0s 56us/step - loss: 1.7257\n",
      "Epoch 50/100\n",
      "50/50 [==============================] - 0s 51us/step - loss: 1.6512\n",
      "Epoch 51/100\n",
      "50/50 [==============================] - 0s 54us/step - loss: 1.3408\n",
      "Epoch 52/100\n",
      "50/50 [==============================] - 0s 55us/step - loss: 1.6357\n",
      "Epoch 53/100\n",
      "50/50 [==============================] - 0s 52us/step - loss: 1.6279\n",
      "Epoch 54/100\n",
      "50/50 [==============================] - 0s 52us/step - loss: 1.7160\n",
      "Epoch 55/100\n",
      "50/50 [==============================] - 0s 52us/step - loss: 1.3901\n",
      "Epoch 56/100\n",
      "50/50 [==============================] - 0s 51us/step - loss: 1.3622\n",
      "Epoch 57/100\n",
      "50/50 [==============================] - 0s 51us/step - loss: 1.7231\n",
      "Epoch 58/100\n",
      "50/50 [==============================] - 0s 52us/step - loss: 1.3949\n",
      "Epoch 59/100\n",
      "50/50 [==============================] - 0s 87us/step - loss: 1.6233\n",
      "Epoch 60/100\n",
      "50/50 [==============================] - 0s 121us/step - loss: 1.4094\n",
      "Epoch 61/100\n",
      "50/50 [==============================] - 0s 62us/step - loss: 1.3123\n",
      "Epoch 62/100\n",
      "50/50 [==============================] - 0s 59us/step - loss: 1.7009\n",
      "Epoch 63/100\n",
      "50/50 [==============================] - 0s 53us/step - loss: 1.3117\n",
      "Epoch 64/100\n",
      "50/50 [==============================] - 0s 62us/step - loss: 1.6551\n",
      "Epoch 65/100\n",
      "50/50 [==============================] - 0s 72us/step - loss: 1.0748\n",
      "Epoch 66/100\n",
      "50/50 [==============================] - 0s 58us/step - loss: 1.4011\n",
      "Epoch 67/100\n",
      "50/50 [==============================] - 0s 70us/step - loss: 1.2917\n",
      "Epoch 68/100\n",
      "50/50 [==============================] - 0s 66us/step - loss: 1.5638\n",
      "Epoch 69/100\n",
      "50/50 [==============================] - 0s 66us/step - loss: 1.3118\n",
      "Epoch 70/100\n",
      "50/50 [==============================] - 0s 53us/step - loss: 1.2066\n",
      "Epoch 71/100\n",
      "50/50 [==============================] - 0s 51us/step - loss: 1.2795\n",
      "Epoch 72/100\n",
      "50/50 [==============================] - 0s 49us/step - loss: 1.0826\n",
      "Epoch 73/100\n",
      "50/50 [==============================] - 0s 56us/step - loss: 1.2979\n",
      "Epoch 74/100\n",
      "50/50 [==============================] - 0s 59us/step - loss: 1.1396\n",
      "Epoch 75/100\n",
      "50/50 [==============================] - 0s 54us/step - loss: 1.0907\n",
      "Epoch 76/100\n",
      "50/50 [==============================] - 0s 51us/step - loss: 1.0940\n",
      "Epoch 77/100\n",
      "50/50 [==============================] - 0s 51us/step - loss: 1.1983\n",
      "Epoch 78/100\n",
      "50/50 [==============================] - 0s 51us/step - loss: 1.1314\n",
      "Epoch 79/100\n",
      "50/50 [==============================] - 0s 55us/step - loss: 1.0797\n",
      "Epoch 80/100\n",
      "50/50 [==============================] - 0s 57us/step - loss: 1.1001\n",
      "Epoch 81/100\n",
      "50/50 [==============================] - 0s 53us/step - loss: 1.0536\n",
      "Epoch 82/100\n",
      "50/50 [==============================] - 0s 60us/step - loss: 1.2510\n",
      "Epoch 83/100\n",
      "50/50 [==============================] - 0s 51us/step - loss: 1.0582\n",
      "Epoch 84/100\n",
      "50/50 [==============================] - 0s 53us/step - loss: 1.5910\n",
      "Epoch 85/100\n",
      "50/50 [==============================] - 0s 58us/step - loss: 1.2461\n",
      "Epoch 86/100\n",
      "50/50 [==============================] - 0s 51us/step - loss: 1.5813\n",
      "Epoch 87/100\n",
      "50/50 [==============================] - 0s 53us/step - loss: 1.3308\n",
      "Epoch 88/100\n",
      "50/50 [==============================] - 0s 57us/step - loss: 1.1970\n",
      "Epoch 89/100\n",
      "50/50 [==============================] - 0s 56us/step - loss: 1.0542\n",
      "Epoch 90/100\n",
      "50/50 [==============================] - 0s 56us/step - loss: 1.3497\n",
      "Epoch 91/100\n",
      "50/50 [==============================] - 0s 50us/step - loss: 1.1476\n",
      "Epoch 92/100\n",
      "50/50 [==============================] - 0s 51us/step - loss: 1.2267\n",
      "Epoch 93/100\n",
      "50/50 [==============================] - 0s 52us/step - loss: 1.1384\n",
      "Epoch 94/100\n",
      "50/50 [==============================] - 0s 50us/step - loss: 1.0218\n",
      "Epoch 95/100\n",
      "50/50 [==============================] - 0s 53us/step - loss: 0.8626\n",
      "Epoch 96/100\n",
      "50/50 [==============================] - 0s 50us/step - loss: 1.0738\n",
      "Epoch 97/100\n",
      "50/50 [==============================] - 0s 60us/step - loss: 1.1686\n",
      "Epoch 98/100\n",
      "50/50 [==============================] - 0s 52us/step - loss: 1.0161\n",
      "Epoch 99/100\n",
      "50/50 [==============================] - 0s 52us/step - loss: 0.9908\n",
      "Epoch 100/100\n",
      "50/50 [==============================] - 0s 57us/step - loss: 0.6856\n"
     ]
    }
   ],
   "source": [
    "model1.compile(loss='mae', optimizer=Adam(lr=0.01))\n",
    "callbacks = []\n",
    "history = model1.fit(x_train2, y_train, batch_size=sample, epochs=100, callbacks=callbacks, verbose=1)"
   ]
  },
  {
   "cell_type": "code",
   "execution_count": 0,
   "metadata": {
    "ExecuteTime": {
     "end_time": "2018-12-26T20:17:16.425618Z",
     "start_time": "2018-12-26T20:17:15.322544Z"
    },
    "colab": {
     "base_uri": "https://localhost:8080/",
     "height": 52
    },
    "colab_type": "code",
    "id": "hn5rhbujXsih",
    "outputId": "009af3a3-671d-4cfd-a86f-3b3c3c6abe2f"
   },
   "outputs": [
    {
     "name": "stdout",
     "output_type": "stream",
     "text": [
      "102/102 [==============================] - 0s 491us/step\n",
      "MAE: 39.0192\n"
     ]
    }
   ],
   "source": [
    "mae = model1.evaluate(x_test2, y_test)\n",
    "\n",
    "print(\"MAE: %.4f\" % mae)"
   ]
  },
  {
   "cell_type": "code",
   "execution_count": 0,
   "metadata": {
    "colab": {},
    "colab_type": "code",
    "id": "LijYVLciXsin"
   },
   "outputs": [],
   "source": []
  },
  {
   "cell_type": "code",
   "execution_count": 0,
   "metadata": {
    "colab": {},
    "colab_type": "code",
    "id": "_YEhvx35Xsis"
   },
   "outputs": [],
   "source": []
  }
 ],
 "metadata": {
  "colab": {
   "collapsed_sections": [],
   "name": "Problem 6.ipynb",
   "provenance": []
  },
  "kernelspec": {
   "display_name": "Python 3",
   "language": "python",
   "name": "python3"
  },
  "language_info": {
   "codemirror_mode": {
    "name": "ipython",
    "version": 3
   },
   "file_extension": ".py",
   "mimetype": "text/x-python",
   "name": "python",
   "nbconvert_exporter": "python",
   "pygments_lexer": "ipython3",
   "version": "3.7.3"
  }
 },
 "nbformat": 4,
 "nbformat_minor": 1
}
